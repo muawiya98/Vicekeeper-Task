{
 "cells": [
  {
   "cell_type": "markdown",
   "metadata": {},
   "source": [
    "### Step 1: Load the Dataset"
   ]
  },
  {
   "cell_type": "code",
   "execution_count": null,
   "metadata": {},
   "outputs": [
    {
     "data": {
      "text/html": [
       "<div>\n",
       "<style scoped>\n",
       "    .dataframe tbody tr th:only-of-type {\n",
       "        vertical-align: middle;\n",
       "    }\n",
       "\n",
       "    .dataframe tbody tr th {\n",
       "        vertical-align: top;\n",
       "    }\n",
       "\n",
       "    .dataframe thead th {\n",
       "        text-align: right;\n",
       "    }\n",
       "</style>\n",
       "<table border=\"1\" class=\"dataframe\">\n",
       "  <thead>\n",
       "    <tr style=\"text-align: right;\">\n",
       "      <th></th>\n",
       "      <th>Order ID</th>\n",
       "      <th>Region</th>\n",
       "      <th>Product Category</th>\n",
       "      <th>Sales Amount</th>\n",
       "      <th>Cost</th>\n",
       "      <th>Profit</th>\n",
       "      <th>Order Date</th>\n",
       "      <th>Customer Segment</th>\n",
       "      <th>Unnamed: 8</th>\n",
       "      <th>Data Summarization:</th>\n",
       "      <th>Unnamed: 10</th>\n",
       "      <th>Unnamed: 11</th>\n",
       "      <th>Unnamed: 12</th>\n",
       "      <th>Unnamed: 13</th>\n",
       "    </tr>\n",
       "  </thead>\n",
       "  <tbody>\n",
       "    <tr>\n",
       "      <th>0</th>\n",
       "      <td>1001.0</td>\n",
       "      <td>North</td>\n",
       "      <td>Electronics</td>\n",
       "      <td>1500.0</td>\n",
       "      <td>1000.0</td>\n",
       "      <td>500.0</td>\n",
       "      <td>2023-06-01</td>\n",
       "      <td>Corporate</td>\n",
       "      <td>NaN</td>\n",
       "      <td>1- Summarize the total sales, total profit, an...</td>\n",
       "      <td>NaN</td>\n",
       "      <td>NaN</td>\n",
       "      <td>NaN</td>\n",
       "      <td>NaN</td>\n",
       "    </tr>\n",
       "    <tr>\n",
       "      <th>1</th>\n",
       "      <td>1002.0</td>\n",
       "      <td>South</td>\n",
       "      <td>Furniture</td>\n",
       "      <td>800.0</td>\n",
       "      <td>600.0</td>\n",
       "      <td>200.0</td>\n",
       "      <td>2023-06-03</td>\n",
       "      <td>Small Business</td>\n",
       "      <td>NaN</td>\n",
       "      <td>Region</td>\n",
       "      <td>Total Sales</td>\n",
       "      <td>Total Profit</td>\n",
       "      <td>Average Sales</td>\n",
       "      <td>Column1</td>\n",
       "    </tr>\n",
       "    <tr>\n",
       "      <th>2</th>\n",
       "      <td>1003.0</td>\n",
       "      <td>East</td>\n",
       "      <td>Electronics</td>\n",
       "      <td>1200.0</td>\n",
       "      <td>900.0</td>\n",
       "      <td>300.0</td>\n",
       "      <td>2023-06-05</td>\n",
       "      <td>Corporate</td>\n",
       "      <td>NaN</td>\n",
       "      <td>North</td>\n",
       "      <td>4800</td>\n",
       "      <td>1350</td>\n",
       "      <td>1200</td>\n",
       "      <td>5137.5</td>\n",
       "    </tr>\n",
       "    <tr>\n",
       "      <th>3</th>\n",
       "      <td>1004.0</td>\n",
       "      <td>West</td>\n",
       "      <td>Office Supplies</td>\n",
       "      <td>600.0</td>\n",
       "      <td>450.0</td>\n",
       "      <td>150.0</td>\n",
       "      <td>2023-06-10</td>\n",
       "      <td>Consumer</td>\n",
       "      <td>NaN</td>\n",
       "      <td>West</td>\n",
       "      <td>4100</td>\n",
       "      <td>950</td>\n",
       "      <td>1366.67</td>\n",
       "      <td>4337.5</td>\n",
       "    </tr>\n",
       "    <tr>\n",
       "      <th>4</th>\n",
       "      <td>1005.0</td>\n",
       "      <td>North</td>\n",
       "      <td>Furniture</td>\n",
       "      <td>500.0</td>\n",
       "      <td>300.0</td>\n",
       "      <td>200.0</td>\n",
       "      <td>2023-06-12</td>\n",
       "      <td>Consumer</td>\n",
       "      <td>NaN</td>\n",
       "      <td>South</td>\n",
       "      <td>3700</td>\n",
       "      <td>800</td>\n",
       "      <td>1233.33</td>\n",
       "      <td>3900</td>\n",
       "    </tr>\n",
       "  </tbody>\n",
       "</table>\n",
       "</div>"
      ],
      "text/plain": [
       "   Order ID Region Product Category  Sales Amount    Cost  Profit Order Date  \\\n",
       "0    1001.0  North      Electronics        1500.0  1000.0   500.0 2023-06-01   \n",
       "1    1002.0  South        Furniture         800.0   600.0   200.0 2023-06-03   \n",
       "2    1003.0   East      Electronics        1200.0   900.0   300.0 2023-06-05   \n",
       "3    1004.0   West  Office Supplies         600.0   450.0   150.0 2023-06-10   \n",
       "4    1005.0  North        Furniture         500.0   300.0   200.0 2023-06-12   \n",
       "\n",
       "  Customer Segment  Unnamed: 8  \\\n",
       "0        Corporate         NaN   \n",
       "1   Small Business         NaN   \n",
       "2        Corporate         NaN   \n",
       "3         Consumer         NaN   \n",
       "4         Consumer         NaN   \n",
       "\n",
       "                                 Data Summarization:  Unnamed: 10  \\\n",
       "0  1- Summarize the total sales, total profit, an...          NaN   \n",
       "1                                             Region  Total Sales   \n",
       "2                                              North         4800   \n",
       "3                                               West         4100   \n",
       "4                                              South         3700   \n",
       "\n",
       "    Unnamed: 11    Unnamed: 12 Unnamed: 13  \n",
       "0           NaN            NaN         NaN  \n",
       "1  Total Profit  Average Sales     Column1  \n",
       "2          1350           1200      5137.5  \n",
       "3           950        1366.67      4337.5  \n",
       "4           800        1233.33        3900  "
      ]
     },
     "execution_count": 12,
     "metadata": {},
     "output_type": "execute_result"
    }
   ],
   "source": [
    "import pandas as pd\n",
    "import os\n",
    "root_path = 'C:\\\\Users\\\\user\\\\Desktop\\\\Task'\n",
    "file_path = os.path.join(root_path, 'Test data.xlsx')\n",
    "\n",
    "df = pd.read_excel(file_path, sheet_name='Sheet1')\n",
    "df.head()"
   ]
  },
  {
   "cell_type": "markdown",
   "metadata": {},
   "source": [
    "### Step 2: Data Understanding and Cleaning"
   ]
  },
  {
   "cell_type": "markdown",
   "metadata": {},
   "source": [
    "###### Drop Unnecessary Columns"
   ]
  },
  {
   "cell_type": "code",
   "execution_count": null,
   "metadata": {},
   "outputs": [],
   "source": [
    "# Keep only essential columns\n",
    "df = df[['Order ID', 'Region', 'Product Category', 'Sales Amount', 'Cost', 'Profit', 'Order Date', 'Customer Segment']]"
   ]
  },
  {
   "cell_type": "markdown",
   "metadata": {},
   "source": [
    "###### Check for Missing Values"
   ]
  },
  {
   "cell_type": "code",
   "execution_count": null,
   "metadata": {},
   "outputs": [
    {
     "name": "stdout",
     "output_type": "stream",
     "text": [
      "Order ID            61\n",
      "Region              61\n",
      "Product Category    61\n",
      "Sales Amount        61\n",
      "Cost                61\n",
      "Profit              61\n",
      "Order Date          61\n",
      "Customer Segment    61\n",
      "dtype: int64\n"
     ]
    }
   ],
   "source": [
    "# Check for missing values\n",
    "print(df.isnull().sum())"
   ]
  },
  {
   "cell_type": "markdown",
   "metadata": {},
   "source": [
    "###### Handle Outliers"
   ]
  },
  {
   "cell_type": "code",
   "execution_count": null,
   "metadata": {},
   "outputs": [
    {
     "name": "stdout",
     "output_type": "stream",
     "text": [
      "         Order ID  Sales Amount         Cost      Profit  Unnamed: 8\n",
      "count    13.00000     13.000000    13.000000   13.000000         0.0\n",
      "mean   1007.00000   1215.384615   907.692308  307.692308         NaN\n",
      "std       3.89444    582.875278   458.642087  139.711241         NaN\n",
      "min    1001.00000    500.000000   300.000000  150.000000         NaN\n",
      "25%    1004.00000    800.000000   600.000000  200.000000         NaN\n",
      "50%    1007.00000   1100.000000   850.000000  250.000000         NaN\n",
      "75%    1010.00000   1500.000000  1000.000000  400.000000         NaN\n",
      "max    1013.00000   2500.000000  1900.000000  600.000000         NaN\n"
     ]
    }
   ],
   "source": [
    "# basic statistics\n",
    "print(df.describe())"
   ]
  },
  {
   "cell_type": "code",
   "execution_count": null,
   "metadata": {},
   "outputs": [
    {
     "data": {
      "image/png": "[encoded data removed]",
      "text/plain": [
       "<Figure size 720x432 with 1 Axes>"
      ]
     },
     "metadata": {
      "needs_background": "light"
     },
     "output_type": "display_data"
    }
   ],
   "source": [
    "import matplotlib.pyplot as plt\n",
    "import seaborn as sns\n",
    "\n",
    "plt.figure(figsize=(10, 6))\n",
    "sns.boxplot(data=df[['Sales Amount', 'Cost', 'Profit']])\n",
    "plt.show()"
   ]
  },
  {
   "cell_type": "markdown",
   "metadata": {},
   "source": [
    "### Step 3: Data Summarization"
   ]
  },
  {
   "cell_type": "markdown",
   "metadata": {},
   "source": [
    "###### Total Sales, Profit, and Average Sales by Region\n",
    "###### Summarize key metrics by region."
   ]
  },
  {
   "cell_type": "code",
   "execution_count": null,
   "metadata": {},
   "outputs": [
    {
     "name": "stdout",
     "output_type": "stream",
     "text": [
      "        total_sales  total_profit  average_sales\n",
      "Region                                          \n",
      "East         3200.0         900.0    1066.666667\n",
      "North        4800.0        1350.0    1200.000000\n",
      "South        3700.0         800.0    1233.333333\n",
      "West         4100.0         950.0    1366.666667\n"
     ]
    }
   ],
   "source": [
    "region_summary = df.groupby('Region').agg(\n",
    "    total_sales=('Sales Amount', 'sum'),\n",
    "    total_profit=('Profit', 'sum'),\n",
    "    average_sales=('Sales Amount', 'mean')\n",
    ")\n",
    "print(region_summary)"
   ]
  },
  {
   "cell_type": "markdown",
   "metadata": {},
   "source": [
    "###### Total Sales and Profit by Product Category\n",
    "###### Summarize sales and profit by product category."
   ]
  },
  {
   "cell_type": "code",
   "execution_count": null,
   "metadata": {},
   "outputs": [
    {
     "name": "stdout",
     "output_type": "stream",
     "text": [
      "                  total_sales  total_profit\n",
      "Product Category                           \n",
      "Electronics            8900.0        2200.0\n",
      "Furniture              3600.0        1000.0\n",
      "Office Supplies        3300.0         800.0\n"
     ]
    }
   ],
   "source": [
    "category_summary = df.groupby('Product Category').agg(\n",
    "    total_sales=('Sales Amount', 'sum'),\n",
    "    total_profit=('Profit', 'sum')\n",
    ")\n",
    "print(category_summary)"
   ]
  },
  {
   "cell_type": "markdown",
   "metadata": {},
   "source": [
    "###### Calculate Profit Margin\n",
    "###### Profit margin for each order is calculated as Profit / Sales Amount."
   ]
  },
  {
   "cell_type": "code",
   "execution_count": null,
   "metadata": {},
   "outputs": [
    {
     "name": "stdout",
     "output_type": "stream",
     "text": [
      "Overall Average Profit Margin: 0.2616560764524566\n"
     ]
    }
   ],
   "source": [
    "df['Profit Margin'] = df['Profit'] / df['Sales Amount']\n",
    "\n",
    "average_profit_margin = df['Profit Margin'].mean()\n",
    "print(f\"Overall Average Profit Margin: {average_profit_margin}\")"
   ]
  },
  {
   "cell_type": "markdown",
   "metadata": {},
   "source": [
    "### Step 4: Trend Analysis"
   ]
  },
  {
   "cell_type": "markdown",
   "metadata": {},
   "source": [
    "###### Sales Trends by Customer Segment\n",
    "###### Analyze which customer segment contributes most to sales and profit."
   ]
  },
  {
   "cell_type": "code",
   "execution_count": null,
   "metadata": {},
   "outputs": [
    {
     "name": "stdout",
     "output_type": "stream",
     "text": [
      "                  total_sales  total_profit\n",
      "Customer Segment                           \n",
      "Consumer               4600.0        1150.0\n",
      "Corporate              7500.0        2050.0\n",
      "Small Business         3700.0         800.0\n"
     ]
    }
   ],
   "source": [
    "segment_summary = df.groupby('Customer Segment').agg(\n",
    "    total_sales=('Sales Amount', 'sum'),\n",
    "    total_profit=('Profit', 'sum')\n",
    ")\n",
    "print(segment_summary)"
   ]
  },
  {
   "cell_type": "markdown",
   "metadata": {},
   "source": [
    "###### Monthly Sales Trends"
   ]
  },
  {
   "cell_type": "code",
   "execution_count": null,
   "metadata": {},
   "outputs": [
    {
     "name": "stdout",
     "output_type": "stream",
     "text": [
      "Year    Month\n",
      "2023.0  6.0      13300.0\n",
      "        7.0       2500.0\n",
      "Name: Sales Amount, dtype: float64\n"
     ]
    }
   ],
   "source": [
    "df['Order Date'] = pd.to_datetime(df['Order Date'])\n",
    "\n",
    "df['Month'] = df['Order Date'].dt.month\n",
    "df['Year'] = df['Order Date'].dt.year\n",
    "\n",
    "monthly_sales = df.groupby(['Year', 'Month'])['Sales Amount'].sum()\n",
    "print(monthly_sales)"
   ]
  },
  {
   "cell_type": "markdown",
   "metadata": {},
   "source": [
    "### Step 5: Insights and Recommendations"
   ]
  },
  {
   "cell_type": "markdown",
   "metadata": {},
   "source": [
    "The region which is the top performer in terms of Total Sales and Profit"
   ]
  },
  {
   "cell_type": "code",
   "execution_count": null,
   "metadata": {},
   "outputs": [
    {
     "name": "stdout",
     "output_type": "stream",
     "text": [
      "Top Region by Sales:\n",
      "        total_sales  total_profit  average_sales\n",
      "Region                                          \n",
      "North        4800.0        1350.0         1200.0\n",
      "\n",
      "Top Region by Profit:\n",
      "        total_sales  total_profit  average_sales\n",
      "Region                                          \n",
      "North        4800.0        1350.0         1200.0\n"
     ]
    }
   ],
   "source": [
    "top_region_sales = region_summary.sort_values(by='total_sales', ascending=False).head(1)\n",
    "top_region_profit = region_summary.sort_values(by='total_profit', ascending=False).head(1)\n",
    "\n",
    "print(\"Top Region by Sales:\")\n",
    "print(top_region_sales)\n",
    "\n",
    "print(\"\\nTop Region by Profit:\")\n",
    "print(top_region_profit)\n"
   ]
  },
  {
   "cell_type": "markdown",
   "metadata": {},
   "source": [
    "The Product Category which has the highest Sales and Profit margin"
   ]
  },
  {
   "cell_type": "code",
   "execution_count": null,
   "metadata": {},
   "outputs": [
    {
     "name": "stdout",
     "output_type": "stream",
     "text": [
      "Top Product Category by Sales:\n",
      "                  total_sales  total_profit  Profit Margin\n",
      "Product Category                                          \n",
      "Electronics            8900.0        2200.0       0.247191\n",
      "\n",
      "Top Product Category by Profit Margin:\n",
      "                  total_sales  total_profit  Profit Margin\n",
      "Product Category                                          \n",
      "Furniture              3600.0        1000.0       0.277778\n"
     ]
    }
   ],
   "source": [
    "category_summary['Profit Margin'] = category_summary['total_profit'] / category_summary['total_sales']\n",
    "\n",
    "top_category_sales = category_summary.sort_values(by='total_sales', ascending=False).head(1)\n",
    "top_category_margin = category_summary.sort_values(by='Profit Margin', ascending=False).head(1)\n",
    "\n",
    "print(\"Top Product Category by Sales:\")\n",
    "print(top_category_sales)\n",
    "\n",
    "print(\"\\nTop Product Category by Profit Margin:\")\n",
    "print(top_category_margin)\n"
   ]
  },
  {
   "cell_type": "markdown",
   "metadata": {},
   "source": [
    "The customer segment which is the Most Profitable"
   ]
  },
  {
   "cell_type": "code",
   "execution_count": 18,
   "metadata": {},
   "outputs": [
    {
     "name": "stdout",
     "output_type": "stream",
     "text": [
      "Most Profitable Customer Segment:\n",
      "                  total_sales  total_profit\n",
      "Customer Segment                           \n",
      "Corporate              7500.0        2050.0\n"
     ]
    }
   ],
   "source": [
    "top_segment_profit = segment_summary.sort_values(by='total_profit', ascending=False).head(1)\n",
    "\n",
    "print(\"Most Profitable Customer Segment:\")\n",
    "print(top_segment_profit)\n"
   ]
  },
  {
   "cell_type": "code",
   "execution_count": 19,
   "metadata": {},
   "outputs": [
    {
     "name": "stdout",
     "output_type": "stream",
     "text": [
      "Underperforming Region(s):\n",
      "        total_sales  total_profit  average_sales\n",
      "Region                                          \n",
      "East         3200.0         900.0    1066.666667\n",
      "\n",
      "Underperforming Product Category(s):\n",
      "                  total_sales  total_profit  Profit Margin\n",
      "Product Category                                          \n",
      "Office Supplies        3300.0         800.0       0.242424\n"
     ]
    }
   ],
   "source": [
    "# Underperforming regions by total sales and profit\n",
    "underperforming_regions = region_summary.sort_values(by='total_sales').head(1)\n",
    "\n",
    "# Underperforming product categories by total sales and profit\n",
    "underperforming_categories = category_summary.sort_values(by='total_sales').head(1)\n",
    "\n",
    "print(\"Underperforming Region(s):\")\n",
    "print(underperforming_regions)\n",
    "\n",
    "print(\"\\nUnderperforming Product Category(s):\")\n",
    "print(underperforming_categories)\n"
   ]
  },
  {
   "cell_type": "markdown",
   "metadata": {},
   "source": [
    "### Recommendations\n",
    "\n",
    "###### Top-Performing Region: Continue investing in the top-performing region by increasing stock availability and supporting local promotions. Additionally, allocate more budget for regional marketing to strengthen customer loyalty and capture more market share. If the region is showing consistent growth, consider opening new distribution centers or retail outlets to meet demand.\n",
    "\n",
    "###### Product Category with Highest Sales: Since this category generates the most revenue, increase inventory and focus on optimizing the supply chain for faster restocking. Launch targeted campaigns to upsell and cross-sell related products, as this category likely has high customer demand.\n",
    "\n",
    "###### Product Category with the Highest Profit Margin: Prioritize this category for high-profit campaigns. Offer value-added services, such as extended warranties or premium packaging, to attract high-margin buyers. Also, consider raising prices gradually if competitive dynamics allow, to enhance profitability.\n",
    "\n",
    "###### Most Profitable Customer Segment: Develop targeted marketing strategies for the most profitable customer segment, including exclusive promotions, loyalty rewards, and customized product recommendations. This could involve creating dedicated email campaigns, special discounts, or tailored bundles to encourage repeat purchases and enhance lifetime customer value.\n",
    "\n",
    "###### Underperforming Regions: Evaluate potential challenges in the underperforming regions, such as lower brand awareness or logistical issues. Implement localized marketing initiatives, such as discount events or partnerships with local businesses, to increase visibility. Consider adjusting product offerings or pricing to better match local demand and preferences.\n",
    "\n",
    "###### Underperforming Product Categories: Identify why these categories are underperforming—whether due to low demand, high competition, or limited marketing support. Run trial promotions, bundle products to increase appeal, or create educational content to highlight product benefits. If demand remains low, consider reducing inventory for these categories or discontinuing them to free up resources for more profitable items.\n",
    "\n",
    "### Strategic Actions\n",
    "###### Invest in High-Performing Areas: Allocate resources to enhance operations in regions and categories with the strongest sales and profit margins.\n",
    "###### Focus on High-Profit Customer Segments: Develop a customer loyalty program for high-profit segments to encourage repeat purchases.\n",
    "###### Enhance Market Penetration in Lower-Performing Regions and Categories: Use a data-driven approach to target areas of improvement, focusing on adjusting inventory, pricing, and local advertising for better alignment with market demand."
   ]
  },
  {
   "cell_type": "code",
   "execution_count": null,
   "metadata": {},
   "outputs": [],
   "source": []
  }
 ],
 "metadata": {
  "kernelspec": {
   "display_name": "base",
   "language": "python",
   "name": "python3"
  },
  "language_info": {
   "codemirror_mode": {
    "name": "ipython",
    "version": 3
   },
   "file_extension": ".py",
   "mimetype": "text/x-python",
   "name": "python",
   "nbconvert_exporter": "python",
   "pygments_lexer": "ipython3",
   "version": "3.7.6"
  }
 },
 "nbformat": 4,
 "nbformat_minor": 2
}
